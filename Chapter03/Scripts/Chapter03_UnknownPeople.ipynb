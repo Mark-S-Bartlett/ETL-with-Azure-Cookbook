{
    "metadata": {
        "kernelspec": {
            "name": "pysparkkernel",
            "display_name": "PySpark"
        },
        "language_info": {
            "name": "pyspark",
            "mimetype": "text/x-python",
            "codemirror_mode": {
                "name": "python",
                "version": 2
            },
            "pygments_lexer": "python2"
        }
    },
    "nbformat_minor": 2,
    "nbformat": 4,
    "cells": [
        {
            "cell_type": "code",
            "source": [
                "# Before running this cell, replace <your_password> below with the\r\n",
                "# actual password you used when deploying the Big Data Cluster.\r\n",
                "\r\n",
                "newPeople = (spark\r\n",
                "    .read\r\n",
                "    .format(\"csv\")\r\n",
                "    .options(header=\"true\", infer_schema=\"true\")\r\n",
                "    .load(\"/NewPeople\"))\r\n",
                "\r\n",
                "existingPeople = (spark\r\n",
                "    .read\r\n",
                "    .format(\"jdbc\")\r\n",
                "    .option(\"url\", \"jdbc:sqlserver://master-0.master-svc;databaseName=Staging\")\r\n",
                "    .option(\"dbtable\", \"dbo.ExistingPeople\")\r\n",
                "    .option(\"user\", \"admin\")\r\n",
                "    .option(\"password\", \"<your_password>\")\r\n",
                "    .load())\r\n",
                "\r\n",
                "newPeople.show(10)\r\n",
                "existingPeople.show(10)\r\n",
                "\r\n",
                "unknownPeople = newPeople.join(existingPeople, newPeople.EmailAddress == existingPeople.EmailAddress, how=\"left_anti\")\r\n",
                "\r\n",
                "print(newPeople.count())\r\n",
                "print(existingPeople.count())\r\n",
                "print(unknownPeople.count())\r\n",
                "\r\n",
                "(unknownPeople\r\n",
                "    .select(\"FirstName\", \"LastName\", \"EmailAddress\")\r\n",
                "    .write\r\n",
                "    .format(\"com.databricks.spark.csv\")\r\n",
                "    .options(header=\"true\")\r\n",
                "    .mode(\"overwrite\")\r\n",
                "    .save(\"/UnknownPeople\"))\r\n",
                ""
            ],
            "metadata": {
                "azdata_cell_guid": "1a1315cd-1125-4960-8ec4-6ac461da1a5e"
            },
            "outputs": [],
            "execution_count": null
        }
    ]
}